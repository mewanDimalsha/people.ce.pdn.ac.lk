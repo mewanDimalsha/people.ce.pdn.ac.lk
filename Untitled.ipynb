{
  "nbformat": 4,
  "nbformat_minor": 0,
  "metadata": {
    "colab": {
      "provenance": [],
      "authorship_tag": "ABX9TyMiW6JsOPt4nqNLPWbyNIE+",
      "include_colab_link": true
    },
    "kernelspec": {
      "name": "python3",
      "display_name": "Python 3"
    },
    "language_info": {
      "name": "python"
    }
  },
  "cells": [
    {
      "cell_type": "markdown",
      "metadata": {
        "id": "view-in-github",
        "colab_type": "text"
      },
      "source": [
        "<a href=\"https://colab.research.google.com/github/mewanDimalsha/people.ce.pdn.ac.lk/blob/main/Untitled.ipynb\" target=\"_parent\"><img src=\"https://colab.research.google.com/assets/colab-badge.svg\" alt=\"Open In Colab\"/></a>"
      ]
    },
    {
      "cell_type": "code",
      "metadata": {
        "colab": {
          "base_uri": "https://localhost:8080/"
        },
        "id": "gCZHRifvA3kL",
        "outputId": "dc33803f-1c27-4cf9-a2e3-4138043e9299"
      },
      "source": [
        "import math\n",
        "\n",
        "def composite_trapezoidal(a, b, f, N):\n",
        "    h = (b - a) / N\n",
        "    result = f(a) + f(b)  # Include the endpoints\n",
        "\n",
        "    for i in range(1, N):\n",
        "        x = a + i * h\n",
        "        result += 2 * f(x)\n",
        "\n",
        "    result *= h / 2\n",
        "    return result\n",
        "\n",
        "def integrand(x):\n",
        "    return math.exp(-x**2)\n",
        "\n",
        "a = 0\n",
        "b = 1\n",
        "N = 100  # Number of subintervals\n",
        "\n",
        "result = composite_trapezoidal(a, b, integrand, N)\n",
        "print(\"Approximation:\", result)\n"
      ],
      "execution_count": 1,
      "outputs": [
        {
          "output_type": "stream",
          "name": "stdout",
          "text": [
            "Approximation: 0.7468180014679697\n"
          ]
        }
      ]
    },
    {
      "cell_type": "code",
      "metadata": {
        "id": "h23D0-IIB1AC",
        "colab": {
          "base_uri": "https://localhost:8080/"
        },
        "outputId": "85e58872-002a-4ddb-e91b-a6f398b14469"
      },
      "source": [
        "import math\n",
        "\n",
        "def composite_trapezoidal(a, b, f, N):\n",
        "    h = (b - a) / N\n",
        "    result = f(a) + f(b)  # Include the endpoints\n",
        "\n",
        "    for i in range(1, N):\n",
        "        x = a + i * h\n",
        "        result += 2 * f(x)\n",
        "\n",
        "    result *= h / 2\n",
        "    return result\n",
        "\n",
        "def j_integral(r, rho, sigma):\n",
        "    a = 0\n",
        "    b = r\n",
        "    N = 1000  # Number of subintervals\n",
        "\n",
        "    def f(x):\n",
        "        return rho(x) * x**2\n",
        "\n",
        "    return sigma * math.pow(8.859 * 10**-12, -1) * r**2 * composite_trapezoidal(a, b, f, N)\n",
        "\n",
        "def rho(x):\n",
        "    return math.exp(x)\n",
        "\n",
        "sigma = 0.36  # W/mK\n",
        "\n",
        "for k in range(1, 11):\n",
        "    r = k / 10.0\n",
        "    result = j_integral(r, rho, sigma)\n",
        "    print(f\"j({r}) = {result}\")\n"
      ],
      "execution_count": 3,
      "outputs": [
        {
          "output_type": "stream",
          "name": "stdout",
          "text": [
            "j(0.1) = 1460.3260832798298\n",
            "j(0.2) = 50397.97099740031\n",
            "j(0.3) = 412895.3842080943\n",
            "j(0.4) = 1877842.4363009953\n",
            "j(0.5) = 6187094.274697847\n",
            "j(0.6) = 16627229.966325752\n",
            "j(0.7) = 38826439.77441838\n",
            "j(0.8) = 81809771.28336114\n",
            "j(0.9) = 159377577.87760943\n",
            "j(1.0) = 291885882.0302587\n"
          ]
        }
      ]
    }
  ]
}